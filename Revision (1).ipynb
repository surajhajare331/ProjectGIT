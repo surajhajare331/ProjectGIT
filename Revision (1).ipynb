{
 "cells": [
  {
   "cell_type": "code",
   "execution_count": null,
   "id": "36bb11f8-f074-4753-8ab8-402605ae82b0",
   "metadata": {},
   "outputs": [],
   "source": [
    "insert()\n",
    "append()\n",
    "extend()"
   ]
  },
  {
   "cell_type": "code",
   "execution_count": null,
   "id": "28028ebb-0557-4d68-881f-0702e2e34eb3",
   "metadata": {},
   "outputs": [],
   "source": [
    "remove(element)\n",
    "pop(index)\n",
    "clear()"
   ]
  },
  {
   "cell_type": "code",
   "execution_count": 19,
   "id": "115c44f8-c93e-45a9-95cd-ada82350b2f7",
   "metadata": {},
   "outputs": [],
   "source": [
    "py_list = [43,675,34,65,4,575,3,47,56,34]"
   ]
  },
  {
   "cell_type": "code",
   "execution_count": 21,
   "id": "4f57a579-faa8-4791-a8af-0eb97f3f8151",
   "metadata": {},
   "outputs": [
    {
     "ename": "ValueError",
     "evalue": "list.remove(x): x not in list",
     "output_type": "error",
     "traceback": [
      "\u001b[1;31m---------------------------------------------------------------------------\u001b[0m",
      "\u001b[1;31mValueError\u001b[0m                                Traceback (most recent call last)",
      "Cell \u001b[1;32mIn[21], line 1\u001b[0m\n\u001b[1;32m----> 1\u001b[0m py_list\u001b[38;5;241m.\u001b[39mremove(\u001b[38;5;241m5000\u001b[39m)\n",
      "\u001b[1;31mValueError\u001b[0m: list.remove(x): x not in list"
     ]
    }
   ],
   "source": [
    "py_list.remove(5000)"
   ]
  },
  {
   "cell_type": "code",
   "execution_count": 17,
   "id": "6bcb93d0-8f6e-4c3d-807f-239c73b139c6",
   "metadata": {},
   "outputs": [
    {
     "ename": "TypeError",
     "evalue": "list.remove() takes exactly one argument (2 given)",
     "output_type": "error",
     "traceback": [
      "\u001b[1;31m---------------------------------------------------------------------------\u001b[0m",
      "\u001b[1;31mTypeError\u001b[0m                                 Traceback (most recent call last)",
      "Cell \u001b[1;32mIn[17], line 1\u001b[0m\n\u001b[1;32m----> 1\u001b[0m py_list\u001b[38;5;241m.\u001b[39mremove(\u001b[38;5;241m3\u001b[39m,\u001b[38;5;241m54\u001b[39m)\n",
      "\u001b[1;31mTypeError\u001b[0m: list.remove() takes exactly one argument (2 given)"
     ]
    }
   ],
   "source": [
    "py_list.remove(3,54)"
   ]
  },
  {
   "cell_type": "code",
   "execution_count": 23,
   "id": "5a5800a2-8530-4d86-883c-69f3734499d6",
   "metadata": {},
   "outputs": [
    {
     "data": {
      "text/plain": [
       "34"
      ]
     },
     "execution_count": 23,
     "metadata": {},
     "output_type": "execute_result"
    }
   ],
   "source": [
    "py_list.pop()"
   ]
  },
  {
   "cell_type": "code",
   "execution_count": 25,
   "id": "89a0014f-22f2-458c-a8dc-841467c21ca5",
   "metadata": {},
   "outputs": [
    {
     "data": {
      "text/plain": [
       "[43, 675, 34, 65, 4, 575, 3, 47, 56]"
      ]
     },
     "execution_count": 25,
     "metadata": {},
     "output_type": "execute_result"
    }
   ],
   "source": [
    "py_list"
   ]
  },
  {
   "cell_type": "code",
   "execution_count": null,
   "id": "0f67773f-233d-477a-90f0-ec98befe6553",
   "metadata": {},
   "outputs": [],
   "source": [
    "remove -- element\n",
    "pop --- index "
   ]
  },
  {
   "cell_type": "code",
   "execution_count": 31,
   "id": "f8aecaab-0a3a-413d-a216-85e5907f3db1",
   "metadata": {},
   "outputs": [
    {
     "data": {
      "text/plain": [
       "[43, 675, 34, 65, 4, 575, 3, 47, 56]"
      ]
     },
     "execution_count": 31,
     "metadata": {},
     "output_type": "execute_result"
    }
   ],
   "source": [
    "py_list"
   ]
  },
  {
   "cell_type": "code",
   "execution_count": 33,
   "id": "28026c0f-7b79-4371-81b6-0cb5853c5b61",
   "metadata": {},
   "outputs": [
    {
     "data": {
      "text/plain": [
       "[43, 675, 34, 65, 4, 575, 3, 47, 56]"
      ]
     },
     "execution_count": 33,
     "metadata": {},
     "output_type": "execute_result"
    }
   ],
   "source": [
    "py_list"
   ]
  },
  {
   "cell_type": "code",
   "execution_count": 35,
   "id": "2ad3f31c-f220-4a57-ab04-f7e3d1163b16",
   "metadata": {},
   "outputs": [],
   "source": [
    "py_list[5] = 'java'"
   ]
  },
  {
   "cell_type": "code",
   "execution_count": 37,
   "id": "c4995faa-d6c3-4ee6-8585-407679a1ed55",
   "metadata": {},
   "outputs": [
    {
     "data": {
      "text/plain": [
       "[43, 675, 34, 65, 4, 'java', 3, 47, 56]"
      ]
     },
     "execution_count": 37,
     "metadata": {},
     "output_type": "execute_result"
    }
   ],
   "source": [
    "py_list"
   ]
  },
  {
   "cell_type": "code",
   "execution_count": null,
   "id": "47bfe32e-735a-4c99-abff-758b129e0250",
   "metadata": {},
   "outputs": [],
   "source": [
    "update using index number :"
   ]
  },
  {
   "cell_type": "code",
   "execution_count": 53,
   "id": "5791c17d-ae1e-4c7c-b422-e39aabda148f",
   "metadata": {},
   "outputs": [],
   "source": [
    "py_list.clear()"
   ]
  },
  {
   "cell_type": "code",
   "execution_count": 55,
   "id": "641df5ff-f320-4c25-869b-6520caa9bbd2",
   "metadata": {},
   "outputs": [
    {
     "data": {
      "text/plain": [
       "[]"
      ]
     },
     "execution_count": 55,
     "metadata": {},
     "output_type": "execute_result"
    }
   ],
   "source": [
    "py_list"
   ]
  },
  {
   "cell_type": "code",
   "execution_count": null,
   "id": "bfda42d5-40ba-411e-b137-c41ecfff6e55",
   "metadata": {},
   "outputs": [],
   "source": [
    "del vs clear"
   ]
  },
  {
   "cell_type": "code",
   "execution_count": null,
   "id": "a2acf496-3ca9-466d-946b-75140f8c961f",
   "metadata": {},
   "outputs": [],
   "source": [
    "clear() : all elements are deleted but still variable is there\n",
    "del  : complete variable get deteled- ---> NameError"
   ]
  },
  {
   "cell_type": "code",
   "execution_count": 57,
   "id": "e1c3c6b9-444f-42bc-9d81-21e4aada862f",
   "metadata": {},
   "outputs": [
    {
     "data": {
      "text/plain": [
       "[]"
      ]
     },
     "execution_count": 57,
     "metadata": {},
     "output_type": "execute_result"
    }
   ],
   "source": [
    "py_list"
   ]
  },
  {
   "cell_type": "code",
   "execution_count": 59,
   "id": "ebecc3e9-2f8d-463e-b5a0-31c5ba906c01",
   "metadata": {},
   "outputs": [],
   "source": [
    "del py_list"
   ]
  },
  {
   "cell_type": "code",
   "execution_count": 61,
   "id": "1a9fbdf4-fbef-45e3-816d-bb24b5b7477b",
   "metadata": {},
   "outputs": [
    {
     "ename": "NameError",
     "evalue": "name 'py_list' is not defined",
     "output_type": "error",
     "traceback": [
      "\u001b[1;31m---------------------------------------------------------------------------\u001b[0m",
      "\u001b[1;31mNameError\u001b[0m                                 Traceback (most recent call last)",
      "Cell \u001b[1;32mIn[61], line 1\u001b[0m\n\u001b[1;32m----> 1\u001b[0m py_list\n",
      "\u001b[1;31mNameError\u001b[0m: name 'py_list' is not defined"
     ]
    }
   ],
   "source": [
    "py_list"
   ]
  },
  {
   "cell_type": "code",
   "execution_count": null,
   "id": "8dd70ffb-2e17-4031-ac6d-06f15695c027",
   "metadata": {},
   "outputs": [],
   "source": [
    "index\n",
    "count"
   ]
  },
  {
   "cell_type": "code",
   "execution_count": null,
   "id": "49219b51-e82d-4c12-bf5c-060dca48ddfa",
   "metadata": {},
   "outputs": [],
   "source": [
    "data ---> \n",
    "\n",
    "\n",
    "transcation  -- \n",
    "\n",
    "12 to 1 [101,6,34,86,3,5786,545]\n",
    "\n",
    "1 to 2  [43,5,34,,65,34,,765,54,]\n",
    "\n",
    "day 23rd  -- 34 how many trancation count\n"
   ]
  },
  {
   "cell_type": "code",
   "execution_count": 63,
   "id": "ce3fa4ab-1e6f-4baa-adcd-61ba6d895a06",
   "metadata": {},
   "outputs": [],
   "source": [
    "py = [34,75,23,65,4,675,34,64]"
   ]
  },
  {
   "cell_type": "code",
   "execution_count": 65,
   "id": "80db19ec-bc32-43f2-8e4a-9194b3bb3d7e",
   "metadata": {},
   "outputs": [
    {
     "data": {
      "text/plain": [
       "2"
      ]
     },
     "execution_count": 65,
     "metadata": {},
     "output_type": "execute_result"
    }
   ],
   "source": [
    "py.count(34)"
   ]
  },
  {
   "cell_type": "code",
   "execution_count": 67,
   "id": "e852ab7e-3c0f-4d1c-b5fe-66c5696ba5ad",
   "metadata": {},
   "outputs": [
    {
     "data": {
      "text/plain": [
       "4"
      ]
     },
     "execution_count": 67,
     "metadata": {},
     "output_type": "execute_result"
    }
   ],
   "source": [
    "py.index(4)"
   ]
  },
  {
   "cell_type": "code",
   "execution_count": 69,
   "id": "4f913f53-5cc9-403c-a00c-45682354d44e",
   "metadata": {},
   "outputs": [
    {
     "data": {
      "text/plain": [
       "[34, 75, 23, 65, 4, 675, 34, 64]"
      ]
     },
     "execution_count": 69,
     "metadata": {},
     "output_type": "execute_result"
    }
   ],
   "source": [
    "py"
   ]
  },
  {
   "cell_type": "code",
   "execution_count": 71,
   "id": "b1e35b8f-8522-4601-a3b2-7cf1c68d1409",
   "metadata": {},
   "outputs": [],
   "source": [
    "py.sort()"
   ]
  },
  {
   "cell_type": "code",
   "execution_count": 73,
   "id": "7b9457d5-416d-43d5-8a34-9ee5b448e753",
   "metadata": {},
   "outputs": [
    {
     "data": {
      "text/plain": [
       "[4, 23, 34, 34, 64, 65, 75, 675]"
      ]
     },
     "execution_count": 73,
     "metadata": {},
     "output_type": "execute_result"
    }
   ],
   "source": [
    "py"
   ]
  },
  {
   "cell_type": "code",
   "execution_count": null,
   "id": "5e8c45a8-0afb-41f6-ac48-7dc991ed8d19",
   "metadata": {},
   "outputs": [],
   "source": [
    "sort() then reverse()\n",
    "sort(reverse=True)"
   ]
  },
  {
   "cell_type": "code",
   "execution_count": 91,
   "id": "597d4a8e-b10d-4ece-b497-9b9609423580",
   "metadata": {},
   "outputs": [],
   "source": [
    "py = [34, 75, 23, 65, 4, 675, 34, 64]"
   ]
  },
  {
   "cell_type": "code",
   "execution_count": 93,
   "id": "474c0054-d861-4e1b-84de-926e4d0df259",
   "metadata": {},
   "outputs": [],
   "source": [
    "py.sort(reverse=True)"
   ]
  },
  {
   "cell_type": "code",
   "execution_count": 95,
   "id": "86a00d7e-1628-4bb6-a169-5f13cea952a1",
   "metadata": {},
   "outputs": [
    {
     "data": {
      "text/plain": [
       "[675, 75, 65, 64, 34, 34, 23, 4]"
      ]
     },
     "execution_count": 95,
     "metadata": {},
     "output_type": "execute_result"
    }
   ],
   "source": [
    "py"
   ]
  },
  {
   "cell_type": "code",
   "execution_count": 97,
   "id": "a7cb4c76-6df1-4772-91d1-124049c7532b",
   "metadata": {},
   "outputs": [],
   "source": [
    "py = [345,654,23,54,6,45,234,64,346,324,6,46]"
   ]
  },
  {
   "cell_type": "code",
   "execution_count": 99,
   "id": "0fc97f04-7635-43e8-973f-2d8a1e9fe969",
   "metadata": {},
   "outputs": [],
   "source": [
    "py.reverse()"
   ]
  },
  {
   "cell_type": "code",
   "execution_count": 101,
   "id": "70252ab6-9318-4864-8595-8426c3ce6e77",
   "metadata": {},
   "outputs": [
    {
     "data": {
      "text/plain": [
       "[46, 6, 324, 346, 64, 234, 45, 6, 54, 23, 654, 345]"
      ]
     },
     "execution_count": 101,
     "metadata": {},
     "output_type": "execute_result"
    }
   ],
   "source": [
    "py"
   ]
  },
  {
   "cell_type": "code",
   "execution_count": null,
   "id": "ab2fb3d5-96e4-4187-9ef9-9e1a472894a9",
   "metadata": {},
   "outputs": [],
   "source": [
    "copy()\n",
    "\n"
   ]
  },
  {
   "cell_type": "code",
   "execution_count": 105,
   "id": "ae1aac57-73a7-4f61-a15f-42b759057565",
   "metadata": {},
   "outputs": [
    {
     "data": {
      "text/plain": [
       "1"
      ]
     },
     "execution_count": 105,
     "metadata": {},
     "output_type": "execute_result"
    }
   ],
   "source": [
    "py.index(6)"
   ]
  },
  {
   "cell_type": "code",
   "execution_count": 111,
   "id": "8d2d1740-fc99-4625-9e02-d3eece0b30a0",
   "metadata": {},
   "outputs": [
    {
     "name": "stdout",
     "output_type": "stream",
     "text": [
      "1\n",
      "7\n"
     ]
    }
   ],
   "source": [
    "for i in enumerate(py):\n",
    "    if i[1] in [6]:\n",
    "        print(i[0])"
   ]
  },
  {
   "cell_type": "code",
   "execution_count": null,
   "id": "880032bd-c314-445e-adb8-978e8f264abd",
   "metadata": {},
   "outputs": [],
   "source": [
    "enumerate()  Data element + index"
   ]
  },
  {
   "cell_type": "code",
   "execution_count": null,
   "id": "93952483-fd70-4401-a452-a358256f0d4a",
   "metadata": {},
   "outputs": [],
   "source": [
    "copy() :\n",
    "\n",
    "1.shallow copy\n",
    "2.deep copy"
   ]
  },
  {
   "cell_type": "code",
   "execution_count": null,
   "id": "bdf01d37-ec1f-41a6-ac1a-9c827d551bb3",
   "metadata": {},
   "outputs": [],
   "source": [
    "shallow copy -- > new copy + old ref"
   ]
  },
  {
   "cell_type": "code",
   "execution_count": null,
   "id": "c87756d2-0f06-4f38-9ff0-078b43d83b86",
   "metadata": {},
   "outputs": [],
   "source": [
    "copy     copy1\n",
    "\n"
   ]
  },
  {
   "cell_type": "code",
   "execution_count": null,
   "id": "1d38a1f0-4fcd-4f49-b784-927688b950de",
   "metadata": {},
   "outputs": [],
   "source": [
    "deep copy\n",
    "\n",
    "\n",
    "copy ---> new copy "
   ]
  },
  {
   "cell_type": "code",
   "execution_count": null,
   "id": "e64591ef-e48a-4669-826a-86ede07e0f67",
   "metadata": {},
   "outputs": [],
   "source": [
    "Tuple:"
   ]
  },
  {
   "cell_type": "code",
   "execution_count": null,
   "id": "42b93ae9-4948-41aa-8a65-8861572353dd",
   "metadata": {},
   "outputs": [],
   "source": [
    "Table \n",
    "\n",
    "\n",
    "Table -- add re  col "
   ]
  },
  {
   "cell_type": "code",
   "execution_count": null,
   "id": "3c334019-23ca-4a0a-aaca-5dcd0438859c",
   "metadata": {},
   "outputs": [],
   "source": []
  },
  {
   "cell_type": "code",
   "execution_count": 119,
   "id": "803e9073-0aa7-4741-8833-fe7ae2896e79",
   "metadata": {},
   "outputs": [],
   "source": [
    " p = [1,2,3]"
   ]
  },
  {
   "cell_type": "code",
   "execution_count": 121,
   "id": "40f20171-ae7d-4363-851b-447111b7c9b0",
   "metadata": {},
   "outputs": [],
   "source": [
    "p1  = p"
   ]
  },
  {
   "cell_type": "code",
   "execution_count": 123,
   "id": "273663ec-8df7-40d2-992d-bac127c9121e",
   "metadata": {},
   "outputs": [
    {
     "data": {
      "text/plain": [
       "[1, 2, 3]"
      ]
     },
     "execution_count": 123,
     "metadata": {},
     "output_type": "execute_result"
    }
   ],
   "source": [
    "p"
   ]
  },
  {
   "cell_type": "code",
   "execution_count": 125,
   "id": "23ac0d8c-e392-469a-900d-591e1e914863",
   "metadata": {},
   "outputs": [
    {
     "data": {
      "text/plain": [
       "[1, 2, 3]"
      ]
     },
     "execution_count": 125,
     "metadata": {},
     "output_type": "execute_result"
    }
   ],
   "source": [
    "p1"
   ]
  },
  {
   "cell_type": "code",
   "execution_count": 127,
   "id": "85bb5a41-1872-4b53-8acb-2b4fe1c099a3",
   "metadata": {},
   "outputs": [
    {
     "data": {
      "text/plain": [
       "1880074774528"
      ]
     },
     "execution_count": 127,
     "metadata": {},
     "output_type": "execute_result"
    }
   ],
   "source": [
    "id(p)"
   ]
  },
  {
   "cell_type": "code",
   "execution_count": 129,
   "id": "03e3b752-9f04-4e8c-8049-3cfb3d9a24e5",
   "metadata": {},
   "outputs": [
    {
     "data": {
      "text/plain": [
       "1880074774528"
      ]
     },
     "execution_count": 129,
     "metadata": {},
     "output_type": "execute_result"
    }
   ],
   "source": [
    "id(p1)"
   ]
  },
  {
   "cell_type": "code",
   "execution_count": 134,
   "id": "2b4d3d51-4e01-47b7-a257-2d0732a90eab",
   "metadata": {},
   "outputs": [],
   "source": [
    "p.append(500)"
   ]
  },
  {
   "cell_type": "code",
   "execution_count": 136,
   "id": "e1f8c778-bdb7-4f86-ae90-fefb6c5afbdf",
   "metadata": {},
   "outputs": [
    {
     "data": {
      "text/plain": [
       "[1, 2, 3, 500]"
      ]
     },
     "execution_count": 136,
     "metadata": {},
     "output_type": "execute_result"
    }
   ],
   "source": [
    "p"
   ]
  },
  {
   "cell_type": "code",
   "execution_count": 138,
   "id": "fae01bb9-7dd4-4606-af37-4a748707f239",
   "metadata": {},
   "outputs": [
    {
     "data": {
      "text/plain": [
       "[1, 2, 3, 500]"
      ]
     },
     "execution_count": 138,
     "metadata": {},
     "output_type": "execute_result"
    }
   ],
   "source": [
    "p1"
   ]
  },
  {
   "cell_type": "code",
   "execution_count": null,
   "id": "d51faa5c-9ef7-4788-a0e0-5432990f262f",
   "metadata": {},
   "outputs": [],
   "source": [
    "Tuple :\n",
    "\n",
    "it is collection of elements \n",
    "it is immuatable type\n",
    "indexing same as list\n",
    "it also contain duplicate elements\n",
    "it is\n",
    "\n",
    "list ---\n",
    "\n",
    "tuple : read only type "
   ]
  },
  {
   "cell_type": "code",
   "execution_count": 146,
   "id": "681741fc-9a84-435a-8de5-17f341a96574",
   "metadata": {},
   "outputs": [],
   "source": [
    "p = (21,54,75,4,75,34,75)"
   ]
  },
  {
   "cell_type": "code",
   "execution_count": 148,
   "id": "9d675112-d213-4327-9638-7063dc66ff46",
   "metadata": {},
   "outputs": [
    {
     "data": {
      "text/plain": [
       "3"
      ]
     },
     "execution_count": 148,
     "metadata": {},
     "output_type": "execute_result"
    }
   ],
   "source": [
    "p.count(75)"
   ]
  },
  {
   "cell_type": "code",
   "execution_count": 150,
   "id": "e7fcfb21-3c1c-4e2e-8b59-4f2e51776f96",
   "metadata": {},
   "outputs": [
    {
     "data": {
      "text/plain": [
       "3"
      ]
     },
     "execution_count": 150,
     "metadata": {},
     "output_type": "execute_result"
    }
   ],
   "source": [
    "p.index(4)"
   ]
  },
  {
   "cell_type": "code",
   "execution_count": null,
   "id": "8b520779-98e3-4971-8a98-a36e8bd5c7c0",
   "metadata": {},
   "outputs": [],
   "source": [
    "valid product -- ['copper','gold'] --  tuple\n",
    "\n",
    "\n",
    "\n",
    "    csv -- clients 'copper',gold','silver' ----> 1000"
   ]
  },
  {
   "cell_type": "code",
   "execution_count": null,
   "id": "e6a71b28-70d3-47f4-bd31-4b39392e2833",
   "metadata": {},
   "outputs": [],
   "source": [
    "interview:\n",
    "can we define list inside tuple and vice versa\n",
    "Yes\n",
    "\n",
    "original property remains same\n",
    "\n",
    "\n",
    "can we insert new element into tuple ?\n",
    "No,but we can use type Casting to insert new element"
   ]
  },
  {
   "cell_type": "code",
   "execution_count": null,
   "id": "762f133c-5c22-425f-8341-91575545f71e",
   "metadata": {},
   "outputs": [],
   "source": [
    "faster -- tuple than list"
   ]
  },
  {
   "cell_type": "code",
   "execution_count": null,
   "id": "47f6dd68-a448-48b3-a781-7189f7e64790",
   "metadata": {},
   "outputs": [],
   "source": [
    "numpy > tuple > list"
   ]
  },
  {
   "cell_type": "code",
   "execution_count": null,
   "id": "4af86f0f-cbe1-4dd4-a77b-de93837be1f7",
   "metadata": {},
   "outputs": [],
   "source": [
    "python  -- SQL,ETL\n",
    "pandas\n",
    "pyspark\n",
    "databricks\n",
    "git docker"
   ]
  },
  {
   "cell_type": "code",
   "execution_count": null,
   "id": "afb6b06d-2ea3-43af-8c56-5d0e348f6208",
   "metadata": {},
   "outputs": [],
   "source": [
    "set:\n",
    "it is collection of unique elements\n",
    "it is unordered type [ store seq define seq different ]\n",
    "indexing is not possible\n",
    "{at least one element shoulde be there} \n",
    "it is mutable type"
   ]
  },
  {
   "cell_type": "code",
   "execution_count": 184,
   "id": "d5a34184-23bd-4ce1-a132-aa33dcc9a321",
   "metadata": {},
   "outputs": [],
   "source": [
    "py_set = {43,75,34,75,34,75,34,67,53,475,35,64,'gy'}"
   ]
  },
  {
   "cell_type": "code",
   "execution_count": 186,
   "id": "29d8d2bb-d5ed-40d8-b632-bfafa59c2ff7",
   "metadata": {},
   "outputs": [
    {
     "data": {
      "text/plain": [
       "{34, 35, 43, 475, 53, 64, 67, 75, 'gy'}"
      ]
     },
     "execution_count": 186,
     "metadata": {},
     "output_type": "execute_result"
    }
   ],
   "source": [
    "py_set"
   ]
  },
  {
   "cell_type": "code",
   "execution_count": null,
   "id": "e1b4cacc-0e22-4d26-a8e3-abf2297995a1",
   "metadata": {},
   "outputs": [],
   "source": [
    "table1  -cols\n",
    "\n",
    "table2  - cols"
   ]
  },
  {
   "cell_type": "code",
   "execution_count": null,
   "id": "f63a7b7f-f3f5-4a67-b8ac-0e0f69801891",
   "metadata": {},
   "outputs": [],
   "source": [
    "insertion operation:\n",
    "add\n",
    "update"
   ]
  },
  {
   "cell_type": "code",
   "execution_count": 188,
   "id": "18875b9d-c69d-4e6b-b5e8-44ed82ab294a",
   "metadata": {},
   "outputs": [],
   "source": [
    "py_set.add(435)"
   ]
  },
  {
   "cell_type": "code",
   "execution_count": 190,
   "id": "6842850e-fa70-4338-a1cf-d7535f5cfc1a",
   "metadata": {},
   "outputs": [
    {
     "data": {
      "text/plain": [
       "{34, 35, 43, 435, 475, 53, 64, 67, 75, 'gy'}"
      ]
     },
     "execution_count": 190,
     "metadata": {},
     "output_type": "execute_result"
    }
   ],
   "source": [
    "py_set"
   ]
  },
  {
   "cell_type": "code",
   "execution_count": 192,
   "id": "5cd65b34-f5be-4db4-bb76-f1be7410c69d",
   "metadata": {},
   "outputs": [],
   "source": [
    "py_set.update({34,75,23,65,3,464})"
   ]
  },
  {
   "cell_type": "code",
   "execution_count": 194,
   "id": "23141203-90bf-4560-93d0-e79141628b52",
   "metadata": {},
   "outputs": [
    {
     "data": {
      "text/plain": [
       "{23, 3, 34, 35, 43, 435, 464, 475, 53, 64, 65, 67, 75, 'gy'}"
      ]
     },
     "execution_count": 194,
     "metadata": {},
     "output_type": "execute_result"
    }
   ],
   "source": [
    "py_set"
   ]
  },
  {
   "cell_type": "code",
   "execution_count": null,
   "id": "398fa48e-a78a-4e1c-82c0-8d558e344b38",
   "metadata": {},
   "outputs": [],
   "source": [
    "Deletetion:\n",
    "remove\n",
    "discard\n",
    "pop\n",
    "clear"
   ]
  },
  {
   "cell_type": "code",
   "execution_count": null,
   "id": "2eb2bae0-455e-4cab-aab5-e87ab6e3fd6f",
   "metadata": {},
   "outputs": [],
   "source": [
    "remove : element present then delete if not then return KeyError\n",
    "discard :  element present then delete if not then no Error"
   ]
  },
  {
   "cell_type": "code",
   "execution_count": 206,
   "id": "894ed9ce-1afd-4d0a-9fd8-85a4c8ffe0af",
   "metadata": {},
   "outputs": [],
   "source": [
    "py_set.remove(464)"
   ]
  },
  {
   "cell_type": "code",
   "execution_count": 208,
   "id": "3ddfd25a-98b4-4eb9-a944-c711805ebd28",
   "metadata": {},
   "outputs": [
    {
     "data": {
      "text/plain": [
       "{23, 3, 34, 35, 43, 435, 475, 53, 64, 65, 67, 75, 'gy'}"
      ]
     },
     "execution_count": 208,
     "metadata": {},
     "output_type": "execute_result"
    }
   ],
   "source": [
    "py_set"
   ]
  },
  {
   "cell_type": "code",
   "execution_count": 210,
   "id": "041cff02-a872-445e-bf69-b8aa5a3c6252",
   "metadata": {},
   "outputs": [
    {
     "ename": "KeyError",
     "evalue": "100",
     "output_type": "error",
     "traceback": [
      "\u001b[1;31m---------------------------------------------------------------------------\u001b[0m",
      "\u001b[1;31mKeyError\u001b[0m                                  Traceback (most recent call last)",
      "Cell \u001b[1;32mIn[210], line 1\u001b[0m\n\u001b[1;32m----> 1\u001b[0m py_set\u001b[38;5;241m.\u001b[39mremove(\u001b[38;5;241m100\u001b[39m)\n",
      "\u001b[1;31mKeyError\u001b[0m: 100"
     ]
    }
   ],
   "source": [
    "py_set.remove(100)"
   ]
  },
  {
   "cell_type": "code",
   "execution_count": 215,
   "id": "923c7f4c-7398-4ec0-aa88-cb18be239076",
   "metadata": {},
   "outputs": [
    {
     "data": {
      "text/plain": [
       "{23, 3, 34, 35, 43, 435, 475, 53, 64, 65, 67, 75, 'gy'}"
      ]
     },
     "execution_count": 215,
     "metadata": {},
     "output_type": "execute_result"
    }
   ],
   "source": [
    "py_set"
   ]
  },
  {
   "cell_type": "code",
   "execution_count": 217,
   "id": "8efbaebb-061a-42f0-a235-3c83082fea22",
   "metadata": {},
   "outputs": [],
   "source": [
    "py_set.discard(35)"
   ]
  },
  {
   "cell_type": "code",
   "execution_count": 219,
   "id": "f3567f5e-b198-424c-ac4c-bd8cabd060c8",
   "metadata": {},
   "outputs": [
    {
     "data": {
      "text/plain": [
       "{23, 3, 34, 43, 435, 475, 53, 64, 65, 67, 75, 'gy'}"
      ]
     },
     "execution_count": 219,
     "metadata": {},
     "output_type": "execute_result"
    }
   ],
   "source": [
    "py_set"
   ]
  },
  {
   "cell_type": "code",
   "execution_count": 221,
   "id": "bf3fb12c-3665-4444-a086-9f1ed2321671",
   "metadata": {},
   "outputs": [],
   "source": [
    "py_set.discard(543534)"
   ]
  },
  {
   "cell_type": "code",
   "execution_count": 223,
   "id": "390b07f9-3d37-40a8-af3b-e7640b583b3a",
   "metadata": {},
   "outputs": [
    {
     "data": {
      "text/plain": [
       "64"
      ]
     },
     "execution_count": 223,
     "metadata": {},
     "output_type": "execute_result"
    }
   ],
   "source": [
    "py_set.pop() # to delete element randomly "
   ]
  },
  {
   "cell_type": "code",
   "execution_count": 234,
   "id": "b4c95985-f578-4bde-b6a0-1f8c3c1149f1",
   "metadata": {},
   "outputs": [
    {
     "data": {
      "text/plain": [
       "65"
      ]
     },
     "execution_count": 234,
     "metadata": {},
     "output_type": "execute_result"
    }
   ],
   "source": [
    "py_set.pop()"
   ]
  },
  {
   "cell_type": "code",
   "execution_count": 240,
   "id": "ab518603-5997-4fbd-b382-07ba4c13e674",
   "metadata": {},
   "outputs": [
    {
     "data": {
      "text/plain": [
       "3"
      ]
     },
     "execution_count": 240,
     "metadata": {},
     "output_type": "execute_result"
    }
   ],
   "source": [
    "py_set.pop()"
   ]
  },
  {
   "cell_type": "code",
   "execution_count": null,
   "id": "ddd6b5da-74c7-4231-8526-1518b8f675b6",
   "metadata": {},
   "outputs": [],
   "source": []
  },
  {
   "cell_type": "code",
   "execution_count": 242,
   "id": "a6a55b13-a466-4869-ad49-053a741ab4e2",
   "metadata": {},
   "outputs": [],
   "source": [
    "token = {'5464564643','654654654','46546546456'}"
   ]
  },
  {
   "cell_type": "code",
   "execution_count": 244,
   "id": "9289485a-4ddd-41a7-a618-b2742f929522",
   "metadata": {},
   "outputs": [],
   "source": [
    "user1 = token.pop()"
   ]
  },
  {
   "cell_type": "code",
   "execution_count": 246,
   "id": "b7f6e6e3-306a-4c78-b775-67f79700f3eb",
   "metadata": {},
   "outputs": [
    {
     "data": {
      "text/plain": [
       "'5464564643'"
      ]
     },
     "execution_count": 246,
     "metadata": {},
     "output_type": "execute_result"
    }
   ],
   "source": [
    "user1"
   ]
  },
  {
   "cell_type": "code",
   "execution_count": null,
   "id": "372fa855-0982-412e-aef7-1ff427a73e35",
   "metadata": {},
   "outputs": [],
   "source": [
    "token.pop()"
   ]
  },
  {
   "cell_type": "code",
   "execution_count": 248,
   "id": "a48fb02d-5ee4-47ba-94ae-7dedd5360dc2",
   "metadata": {},
   "outputs": [
    {
     "data": {
      "text/plain": [
       "{'46546546456', '654654654'}"
      ]
     },
     "execution_count": 248,
     "metadata": {},
     "output_type": "execute_result"
    }
   ],
   "source": [
    "token"
   ]
  },
  {
   "cell_type": "code",
   "execution_count": 250,
   "id": "e7a85ff8-994c-480d-ba3c-1ba7db47ffa4",
   "metadata": {},
   "outputs": [],
   "source": [
    "token.clear()"
   ]
  },
  {
   "cell_type": "code",
   "execution_count": 252,
   "id": "886c07a7-7c02-471f-8790-26739b9e9699",
   "metadata": {},
   "outputs": [
    {
     "data": {
      "text/plain": [
       "set()"
      ]
     },
     "execution_count": 252,
     "metadata": {},
     "output_type": "execute_result"
    }
   ],
   "source": [
    "token"
   ]
  },
  {
   "cell_type": "code",
   "execution_count": 261,
   "id": "14141cf0-c5a6-471c-b28e-bbd0afcc95d3",
   "metadata": {},
   "outputs": [],
   "source": [
    "Agent_BL = {'keshav','tushar','ketan'}"
   ]
  },
  {
   "cell_type": "code",
   "execution_count": 265,
   "id": "d8e5478e-aa7c-40e9-95e2-e13476b9c70d",
   "metadata": {},
   "outputs": [],
   "source": [
    "Agent_KL = {\"tushar\",'sonali','monali','pratik'}"
   ]
  },
  {
   "cell_type": "code",
   "execution_count": null,
   "id": "ce83df20-11d5-472d-a2ae-72353d2b8925",
   "metadata": {},
   "outputs": [],
   "source": [
    "intersection\n",
    "difference\n",
    "union\n",
    "symmetric difference"
   ]
  },
  {
   "cell_type": "code",
   "execution_count": 267,
   "id": "71d90d28-b69b-442d-b0d5-e151bbf895c7",
   "metadata": {},
   "outputs": [
    {
     "data": {
      "text/plain": [
       "{'tushar'}"
      ]
     },
     "execution_count": 267,
     "metadata": {},
     "output_type": "execute_result"
    }
   ],
   "source": [
    "Agent_BL.intersection(Agent_KL)"
   ]
  },
  {
   "cell_type": "code",
   "execution_count": 269,
   "id": "fa50bb9b-bc23-4b73-9f07-f256268b9c37",
   "metadata": {},
   "outputs": [
    {
     "data": {
      "text/plain": [
       "{'keshav', 'ketan', 'monali', 'pratik', 'sonali', 'tushar'}"
      ]
     },
     "execution_count": 269,
     "metadata": {},
     "output_type": "execute_result"
    }
   ],
   "source": [
    "Agent_BL.union(Agent_KL)"
   ]
  },
  {
   "cell_type": "code",
   "execution_count": 275,
   "id": "b5b2937c-6da8-4277-9a77-2cc427c38c35",
   "metadata": {},
   "outputs": [
    {
     "data": {
      "text/plain": [
       "{'keshav', 'ketan'}"
      ]
     },
     "execution_count": 275,
     "metadata": {},
     "output_type": "execute_result"
    }
   ],
   "source": [
    "Agent_BL.difference(Agent_KL)"
   ]
  },
  {
   "cell_type": "code",
   "execution_count": 277,
   "id": "945a6895-dda2-40a2-aede-c3491e9663ec",
   "metadata": {},
   "outputs": [
    {
     "data": {
      "text/plain": [
       "{'monali', 'pratik', 'sonali'}"
      ]
     },
     "execution_count": 277,
     "metadata": {},
     "output_type": "execute_result"
    }
   ],
   "source": [
    "Agent_KL.difference(Agent_BL)"
   ]
  },
  {
   "cell_type": "code",
   "execution_count": 279,
   "id": "41a3c19e-4198-470d-9dc6-373fb7c0c8b8",
   "metadata": {},
   "outputs": [
    {
     "data": {
      "text/plain": [
       "{'keshav', 'ketan', 'monali', 'pratik', 'sonali'}"
      ]
     },
     "execution_count": 279,
     "metadata": {},
     "output_type": "execute_result"
    }
   ],
   "source": [
    "Agent_BL.symmetric_difference(Agent_KL)"
   ]
  },
  {
   "cell_type": "code",
   "execution_count": 289,
   "id": "e48496df-26c5-4b5b-8e91-1c4ecb3afdaf",
   "metadata": {},
   "outputs": [],
   "source": [
    "p = {34,675,23,765,23,46,434,64,}"
   ]
  },
  {
   "cell_type": "code",
   "execution_count": 291,
   "id": "4ef5366e-cb24-42d5-8456-b6d9661a5d19",
   "metadata": {},
   "outputs": [],
   "source": [
    "p1 = {45,7,34,75,3,47,545,}"
   ]
  },
  {
   "cell_type": "code",
   "execution_count": 287,
   "id": "99fa6e40-8ae2-44a2-bfd3-873a89dbc128",
   "metadata": {},
   "outputs": [],
   "source": [
    "p.intersection_update(p1)"
   ]
  },
  {
   "cell_type": "code",
   "execution_count": 293,
   "id": "d00a2e0d-958a-4830-aa78-3192bb6c0afb",
   "metadata": {},
   "outputs": [
    {
     "data": {
      "text/plain": [
       "{34}"
      ]
     },
     "execution_count": 293,
     "metadata": {},
     "output_type": "execute_result"
    }
   ],
   "source": [
    "p.intersection(p1)"
   ]
  },
  {
   "cell_type": "code",
   "execution_count": 295,
   "id": "e0230577-4320-46f5-9673-ccebc87065e8",
   "metadata": {},
   "outputs": [],
   "source": [
    "p.intersection_update(p1)"
   ]
  },
  {
   "cell_type": "code",
   "execution_count": 297,
   "id": "cfeac852-1941-42b7-bc20-48c59e0685e1",
   "metadata": {},
   "outputs": [
    {
     "data": {
      "text/plain": [
       "{34}"
      ]
     },
     "execution_count": 297,
     "metadata": {},
     "output_type": "execute_result"
    }
   ],
   "source": [
    "p"
   ]
  },
  {
   "cell_type": "code",
   "execution_count": 301,
   "id": "4a33c396-d96f-44ef-8361-e42e752fb7c9",
   "metadata": {},
   "outputs": [
    {
     "data": {
      "text/plain": [
       "{3, 7, 34, 45, 47, 75, 545}"
      ]
     },
     "execution_count": 301,
     "metadata": {},
     "output_type": "execute_result"
    }
   ],
   "source": [
    "p1"
   ]
  },
  {
   "cell_type": "code",
   "execution_count": 303,
   "id": "48f79cf9-71b3-48a4-9ece-68d655dc123c",
   "metadata": {},
   "outputs": [],
   "source": [
    "p2 = {7,45}"
   ]
  },
  {
   "cell_type": "code",
   "execution_count": 305,
   "id": "22314461-3ffc-41b4-8e55-eeb8d820749f",
   "metadata": {},
   "outputs": [
    {
     "data": {
      "text/plain": [
       "{3, 7, 34, 45, 47, 75, 545}"
      ]
     },
     "execution_count": 305,
     "metadata": {},
     "output_type": "execute_result"
    }
   ],
   "source": [
    "p1"
   ]
  },
  {
   "cell_type": "code",
   "execution_count": 309,
   "id": "3eb9ef82-4bc2-43c1-937a-29f95e4a3cd3",
   "metadata": {},
   "outputs": [],
   "source": [
    "valid_product = {'gold','iron','al'}"
   ]
  },
  {
   "cell_type": "code",
   "execution_count": 313,
   "id": "d93717cc-27dc-4263-b9d6-1aede841f51b",
   "metadata": {},
   "outputs": [],
   "source": [
    "client  = {'al','gold'}"
   ]
  },
  {
   "cell_type": "code",
   "execution_count": 315,
   "id": "a1f925ad-2b01-4186-995d-642fe76c9415",
   "metadata": {},
   "outputs": [
    {
     "data": {
      "text/plain": [
       "True"
      ]
     },
     "execution_count": 315,
     "metadata": {},
     "output_type": "execute_result"
    }
   ],
   "source": [
    "valid_product.issuperset(client)"
   ]
  },
  {
   "cell_type": "code",
   "execution_count": 317,
   "id": "acba8e3e-dbb3-4401-9684-1154877bfd73",
   "metadata": {},
   "outputs": [],
   "source": [
    "p = {43,6,23,6,34}"
   ]
  },
  {
   "cell_type": "code",
   "execution_count": 327,
   "id": "79bc8774-9d87-4439-8d56-963f371b4cfa",
   "metadata": {},
   "outputs": [],
   "source": [
    "p1 = {344,64,3444,544,344,6}"
   ]
  },
  {
   "cell_type": "code",
   "execution_count": 329,
   "id": "f108d793-50a6-4278-a0f0-919dbb72c3fc",
   "metadata": {},
   "outputs": [
    {
     "data": {
      "text/plain": [
       "False"
      ]
     },
     "execution_count": 329,
     "metadata": {},
     "output_type": "execute_result"
    }
   ],
   "source": [
    "p.isdisjoint(p1)"
   ]
  },
  {
   "cell_type": "code",
   "execution_count": null,
   "id": "54ba4121-a254-47ff-a74c-a5f86cdcf271",
   "metadata": {},
   "outputs": [],
   "source": [
    "Dict:\n",
    "it is collection of items \n",
    "it is mutable type\n",
    "item -- > key :value pair\n",
    "\n",
    "key : immuatable type -- tuple,str,int,frozenset\n",
    "unique \n",
    "tuple and frozenset are not recommnded as keys\n",
    "value : mutable or immutable"
   ]
  },
  {
   "cell_type": "code",
   "execution_count": 341,
   "id": "57ec241a-e411-490f-bfea-ac4a99b5460e",
   "metadata": {},
   "outputs": [],
   "source": [
    "temp = {'id':101,'name':'keshav','sal':54545,'name':'Tushar'}"
   ]
  },
  {
   "cell_type": "code",
   "execution_count": 343,
   "id": "357f4732-a777-4f02-9fc8-b1f02b187e7c",
   "metadata": {},
   "outputs": [
    {
     "data": {
      "text/plain": [
       "{'id': 101, 'name': 'Tushar', 'sal': 54545}"
      ]
     },
     "execution_count": 343,
     "metadata": {},
     "output_type": "execute_result"
    }
   ],
   "source": [
    "temp"
   ]
  },
  {
   "cell_type": "code",
   "execution_count": 345,
   "id": "7c929c69-b360-4248-8abc-15dc1aadcd25",
   "metadata": {},
   "outputs": [
    {
     "data": {
      "text/plain": [
       "dict_keys(['id', 'name', 'sal'])"
      ]
     },
     "execution_count": 345,
     "metadata": {},
     "output_type": "execute_result"
    }
   ],
   "source": [
    "temp.keys()"
   ]
  },
  {
   "cell_type": "code",
   "execution_count": 347,
   "id": "a9faea41-c3f0-41c4-87f3-66ec676346a1",
   "metadata": {},
   "outputs": [
    {
     "data": {
      "text/plain": [
       "dict_values([101, 'Tushar', 54545])"
      ]
     },
     "execution_count": 347,
     "metadata": {},
     "output_type": "execute_result"
    }
   ],
   "source": [
    "temp.values()"
   ]
  },
  {
   "cell_type": "code",
   "execution_count": 349,
   "id": "7725b8f4-a177-4eff-bd17-9c968c80b785",
   "metadata": {},
   "outputs": [
    {
     "data": {
      "text/plain": [
       "dict_items([('id', 101), ('name', 'Tushar'), ('sal', 54545)])"
      ]
     },
     "execution_count": 349,
     "metadata": {},
     "output_type": "execute_result"
    }
   ],
   "source": [
    "temp.items()"
   ]
  },
  {
   "cell_type": "code",
   "execution_count": 351,
   "id": "63388e24-ad9a-467f-b9a7-86f68e885d2e",
   "metadata": {},
   "outputs": [
    {
     "data": {
      "text/plain": [
       "{'id': 101, 'name': 'Tushar', 'sal': 54545}"
      ]
     },
     "execution_count": 351,
     "metadata": {},
     "output_type": "execute_result"
    }
   ],
   "source": [
    "temp"
   ]
  },
  {
   "cell_type": "code",
   "execution_count": 353,
   "id": "0cf2f562-3f4f-4fca-b7eb-a4814fb20d6f",
   "metadata": {},
   "outputs": [
    {
     "ename": "TypeError",
     "evalue": "unhashable type: 'list'",
     "output_type": "error",
     "traceback": [
      "\u001b[1;31m---------------------------------------------------------------------------\u001b[0m",
      "\u001b[1;31mTypeError\u001b[0m                                 Traceback (most recent call last)",
      "Cell \u001b[1;32mIn[353], line 1\u001b[0m\n\u001b[1;32m----> 1\u001b[0m d \u001b[38;5;241m=\u001b[39m {[\u001b[38;5;241m1\u001b[39m,\u001b[38;5;241m2\u001b[39m,\u001b[38;5;241m3\u001b[39m] : \u001b[38;5;241m100\u001b[39m}\n",
      "\u001b[1;31mTypeError\u001b[0m: unhashable type: 'list'"
     ]
    }
   ],
   "source": [
    "d = {[1,2,3] : 100} "
   ]
  },
  {
   "cell_type": "code",
   "execution_count": null,
   "id": "a6017de8-3113-4591-8630-0bf07746e186",
   "metadata": {},
   "outputs": [],
   "source": [
    "key : immutable type\n",
    "value : mutabele or immuatable"
   ]
  },
  {
   "cell_type": "code",
   "execution_count": null,
   "id": "2b56c8b9-27e1-4461-b8f0-0ccb190d705b",
   "metadata": {},
   "outputs": [],
   "source": [
    "products = "
   ]
  },
  {
   "cell_type": "code",
   "execution_count": null,
   "id": "10ab1cde-7a2e-4c48-b413-04cab0c3e88c",
   "metadata": {},
   "outputs": [],
   "source": [
    "dict : key --- colname"
   ]
  },
  {
   "cell_type": "code",
   "execution_count": 369,
   "id": "c7a6b661-1a37-4b1c-a5f1-d3282db914a8",
   "metadata": {},
   "outputs": [],
   "source": [
    "details = {'id':[101,102,103],\n",
    "           'name':('keshav','rakesh','umesh'),\n",
    "           'age':[23,53,65]}"
   ]
  },
  {
   "cell_type": "code",
   "execution_count": 371,
   "id": "a50c6d9c-fc86-4de8-902a-e53b3c6aead0",
   "metadata": {},
   "outputs": [
    {
     "data": {
      "text/plain": [
       "{'id': [101, 102, 103],\n",
       " 'name': ('keshav', 'rakesh', 'umesh'),\n",
       " 'age': [23, 53, 65]}"
      ]
     },
     "execution_count": 371,
     "metadata": {},
     "output_type": "execute_result"
    }
   ],
   "source": [
    "details"
   ]
  },
  {
   "cell_type": "code",
   "execution_count": 373,
   "id": "37f4afa4-ecb4-4570-b752-103c0cf33c7b",
   "metadata": {},
   "outputs": [],
   "source": [
    "import pandas as pd"
   ]
  },
  {
   "cell_type": "code",
   "execution_count": 375,
   "id": "dab99e78-833b-43b4-a27d-776d0580d345",
   "metadata": {},
   "outputs": [],
   "source": [
    "df = pd.DataFrame(details)"
   ]
  },
  {
   "cell_type": "code",
   "execution_count": 377,
   "id": "4e79a0c6-84dc-4c3e-bc94-c2c553ae9729",
   "metadata": {},
   "outputs": [
    {
     "data": {
      "text/html": [
       "<div>\n",
       "<style scoped>\n",
       "    .dataframe tbody tr th:only-of-type {\n",
       "        vertical-align: middle;\n",
       "    }\n",
       "\n",
       "    .dataframe tbody tr th {\n",
       "        vertical-align: top;\n",
       "    }\n",
       "\n",
       "    .dataframe thead th {\n",
       "        text-align: right;\n",
       "    }\n",
       "</style>\n",
       "<table border=\"1\" class=\"dataframe\">\n",
       "  <thead>\n",
       "    <tr style=\"text-align: right;\">\n",
       "      <th></th>\n",
       "      <th>id</th>\n",
       "      <th>name</th>\n",
       "      <th>age</th>\n",
       "    </tr>\n",
       "  </thead>\n",
       "  <tbody>\n",
       "    <tr>\n",
       "      <th>0</th>\n",
       "      <td>101</td>\n",
       "      <td>keshav</td>\n",
       "      <td>23</td>\n",
       "    </tr>\n",
       "    <tr>\n",
       "      <th>1</th>\n",
       "      <td>102</td>\n",
       "      <td>rakesh</td>\n",
       "      <td>53</td>\n",
       "    </tr>\n",
       "    <tr>\n",
       "      <th>2</th>\n",
       "      <td>103</td>\n",
       "      <td>umesh</td>\n",
       "      <td>65</td>\n",
       "    </tr>\n",
       "  </tbody>\n",
       "</table>\n",
       "</div>"
      ],
      "text/plain": [
       "    id    name  age\n",
       "0  101  keshav   23\n",
       "1  102  rakesh   53\n",
       "2  103   umesh   65"
      ]
     },
     "execution_count": 377,
     "metadata": {},
     "output_type": "execute_result"
    }
   ],
   "source": [
    "df"
   ]
  },
  {
   "cell_type": "code",
   "execution_count": 382,
   "id": "6465f89e-e558-418e-a614-941ec877ed6c",
   "metadata": {},
   "outputs": [
    {
     "data": {
      "text/plain": [
       "{'id': 101, 'name': 'Tushar', 'sal': 54545}"
      ]
     },
     "execution_count": 382,
     "metadata": {},
     "output_type": "execute_result"
    }
   ],
   "source": [
    "temp"
   ]
  },
  {
   "cell_type": "code",
   "execution_count": null,
   "id": "f9025970-fa9b-48dc-9915-e7fab17627f9",
   "metadata": {},
   "outputs": [],
   "source": [
    "access elements:\n"
   ]
  },
  {
   "cell_type": "code",
   "execution_count": 384,
   "id": "ea8da71e-78f2-42e5-ad82-57705af6e0a8",
   "metadata": {},
   "outputs": [
    {
     "data": {
      "text/plain": [
       "{'id': 101, 'name': 'Tushar', 'sal': 54545}"
      ]
     },
     "execution_count": 384,
     "metadata": {},
     "output_type": "execute_result"
    }
   ],
   "source": [
    "temp"
   ]
  },
  {
   "cell_type": "code",
   "execution_count": 389,
   "id": "ea409bf9-2065-48ce-9a3a-af1412a7b177",
   "metadata": {},
   "outputs": [
    {
     "data": {
      "text/plain": [
       "'Tushar'"
      ]
     },
     "execution_count": 389,
     "metadata": {},
     "output_type": "execute_result"
    }
   ],
   "source": [
    "temp['name']"
   ]
  },
  {
   "cell_type": "code",
   "execution_count": 391,
   "id": "44cda940-8464-4227-9c75-cdf552e959f7",
   "metadata": {},
   "outputs": [
    {
     "data": {
      "text/plain": [
       "54545"
      ]
     },
     "execution_count": 391,
     "metadata": {},
     "output_type": "execute_result"
    }
   ],
   "source": [
    "temp['sal']"
   ]
  },
  {
   "cell_type": "code",
   "execution_count": 393,
   "id": "45cf4e42-b8f5-429a-afe5-75e85ab5598f",
   "metadata": {},
   "outputs": [
    {
     "ename": "KeyError",
     "evalue": "'sdsf'",
     "output_type": "error",
     "traceback": [
      "\u001b[1;31m---------------------------------------------------------------------------\u001b[0m",
      "\u001b[1;31mKeyError\u001b[0m                                  Traceback (most recent call last)",
      "Cell \u001b[1;32mIn[393], line 1\u001b[0m\n\u001b[1;32m----> 1\u001b[0m temp[\u001b[38;5;124m'\u001b[39m\u001b[38;5;124msdsf\u001b[39m\u001b[38;5;124m'\u001b[39m]\n",
      "\u001b[1;31mKeyError\u001b[0m: 'sdsf'"
     ]
    }
   ],
   "source": [
    "temp['sdsf']"
   ]
  },
  {
   "cell_type": "code",
   "execution_count": 399,
   "id": "07eb7f39-fb6e-44a3-9d4c-3acd274da939",
   "metadata": {},
   "outputs": [
    {
     "data": {
      "text/plain": [
       "102"
      ]
     },
     "execution_count": 399,
     "metadata": {},
     "output_type": "execute_result"
    }
   ],
   "source": [
    "details['id'][1]"
   ]
  },
  {
   "cell_type": "code",
   "execution_count": 447,
   "id": "534186c5-35a1-45e4-aef2-36396e911828",
   "metadata": {},
   "outputs": [],
   "source": [
    "d = {'id':34,'address' : {'city' :'Pune','details': [411046,421332,534343]}}"
   ]
  },
  {
   "cell_type": "code",
   "execution_count": 403,
   "id": "acc50561-057d-4350-b8c0-d50e6a2a5f07",
   "metadata": {},
   "outputs": [
    {
     "data": {
      "text/plain": [
       "{'id': 34, 'address': {'city': 'Pune', 'details': {'pincode': 4343}}}"
      ]
     },
     "execution_count": 403,
     "metadata": {},
     "output_type": "execute_result"
    }
   ],
   "source": [
    "d"
   ]
  },
  {
   "cell_type": "code",
   "execution_count": 409,
   "id": "50fbb0b3-e417-4693-8805-2e7296b089db",
   "metadata": {},
   "outputs": [
    {
     "data": {
      "text/plain": [
       "4343"
      ]
     },
     "execution_count": 409,
     "metadata": {},
     "output_type": "execute_result"
    }
   ],
   "source": [
    "d['address']['details']['pincode']"
   ]
  },
  {
   "cell_type": "code",
   "execution_count": 411,
   "id": "eb0a4e0f-d107-4384-b6b6-a82ad1e3c3f9",
   "metadata": {},
   "outputs": [
    {
     "data": {
      "text/plain": [
       "{'id': 101, 'name': 'Tushar', 'sal': 54545}"
      ]
     },
     "execution_count": 411,
     "metadata": {},
     "output_type": "execute_result"
    }
   ],
   "source": [
    "temp"
   ]
  },
  {
   "cell_type": "code",
   "execution_count": 416,
   "id": "63f32bd5-0bcc-450a-a2e7-116211719aac",
   "metadata": {},
   "outputs": [
    {
     "data": {
      "text/plain": [
       "101"
      ]
     },
     "execution_count": 416,
     "metadata": {},
     "output_type": "execute_result"
    }
   ],
   "source": [
    "temp['id']"
   ]
  },
  {
   "cell_type": "code",
   "execution_count": 418,
   "id": "1ff24227-833c-4dd1-a3fb-c68185604c74",
   "metadata": {},
   "outputs": [
    {
     "ename": "KeyError",
     "evalue": "'sdfsdf'",
     "output_type": "error",
     "traceback": [
      "\u001b[1;31m---------------------------------------------------------------------------\u001b[0m",
      "\u001b[1;31mKeyError\u001b[0m                                  Traceback (most recent call last)",
      "Cell \u001b[1;32mIn[418], line 1\u001b[0m\n\u001b[1;32m----> 1\u001b[0m temp[\u001b[38;5;124m'\u001b[39m\u001b[38;5;124msdfsdf\u001b[39m\u001b[38;5;124m'\u001b[39m]\n",
      "\u001b[1;31mKeyError\u001b[0m: 'sdfsdf'"
     ]
    }
   ],
   "source": [
    "temp['sdfsdf']"
   ]
  },
  {
   "cell_type": "code",
   "execution_count": 420,
   "id": "2ca96783-e5d9-491b-bbef-ba6ec81eaf96",
   "metadata": {},
   "outputs": [
    {
     "data": {
      "text/plain": [
       "101"
      ]
     },
     "execution_count": 420,
     "metadata": {},
     "output_type": "execute_result"
    }
   ],
   "source": [
    "temp.get('id')"
   ]
  },
  {
   "cell_type": "code",
   "execution_count": 426,
   "id": "380bd14e-fcff-43db-a17c-e06d563d476d",
   "metadata": {},
   "outputs": [
    {
     "data": {
      "text/plain": [
       "101"
      ]
     },
     "execution_count": 426,
     "metadata": {},
     "output_type": "execute_result"
    }
   ],
   "source": [
    "temp.get('id',0)"
   ]
  },
  {
   "cell_type": "code",
   "execution_count": 435,
   "id": "eb676b8d-5558-4d48-b82e-6e189ed79606",
   "metadata": {},
   "outputs": [],
   "source": [
    "#END to END Data Pipeline\n",
    "\n",
    "airflow -- python -- mysql --- postgre/mongo"
   ]
  },
  {
   "cell_type": "code",
   "execution_count": 443,
   "id": "738d3937-2c6e-4de4-a3ec-c6c8dee6ffc6",
   "metadata": {},
   "outputs": [
    {
     "data": {
      "text/plain": [
       "4343"
      ]
     },
     "execution_count": 443,
     "metadata": {},
     "output_type": "execute_result"
    }
   ],
   "source": [
    "d.get('address').get('details').get('pincode')"
   ]
  },
  {
   "cell_type": "code",
   "execution_count": 449,
   "id": "6a0e9521-6b4c-4992-ba50-a7a48561d341",
   "metadata": {},
   "outputs": [
    {
     "data": {
      "text/plain": [
       "{'id': 34, 'address': {'city': 'Pune', 'details': [411046, 421332, 534343]}}"
      ]
     },
     "execution_count": 449,
     "metadata": {},
     "output_type": "execute_result"
    }
   ],
   "source": [
    "d"
   ]
  },
  {
   "cell_type": "code",
   "execution_count": 459,
   "id": "fc24d385-7e42-4ae9-bd1d-5470404c1b77",
   "metadata": {},
   "outputs": [],
   "source": [
    "d.get('address').get('details').append(100)"
   ]
  },
  {
   "cell_type": "code",
   "execution_count": 461,
   "id": "6ba5f0c6-e26d-421f-8c00-bea01f8864de",
   "metadata": {},
   "outputs": [
    {
     "data": {
      "text/plain": [
       "{'id': 34,\n",
       " 'address': {'city': 'Pune', 'details': [411046, 421332, 534343, 100]}}"
      ]
     },
     "execution_count": 461,
     "metadata": {},
     "output_type": "execute_result"
    }
   ],
   "source": [
    "d"
   ]
  },
  {
   "cell_type": "code",
   "execution_count": null,
   "id": "0ad49971-225e-4898-8515-591e6c962e91",
   "metadata": {},
   "outputs": [],
   "source": [
    "get\n",
    "keys\n",
    "values\n",
    "items\n"
   ]
  },
  {
   "cell_type": "code",
   "execution_count": 463,
   "id": "9eb987db-6ffe-44d0-8c49-1a920e5bcbfe",
   "metadata": {},
   "outputs": [],
   "source": [
    "#insert new item into dict"
   ]
  },
  {
   "cell_type": "code",
   "execution_count": 467,
   "id": "0235e061-748d-4747-a665-5aed49c40b2c",
   "metadata": {},
   "outputs": [],
   "source": [
    "temp['city'] = 'pune'"
   ]
  },
  {
   "cell_type": "code",
   "execution_count": 469,
   "id": "10227ea5-4cb9-4194-a29d-4b5e7256e373",
   "metadata": {},
   "outputs": [
    {
     "data": {
      "text/plain": [
       "{'id': 101, 'name': 'Tushar', 'sal': 54545, 'city': 'pune'}"
      ]
     },
     "execution_count": 469,
     "metadata": {},
     "output_type": "execute_result"
    }
   ],
   "source": [
    "temp"
   ]
  },
  {
   "cell_type": "code",
   "execution_count": 472,
   "id": "7a080cb3-5cd0-4965-92c0-2a5e9149c9e4",
   "metadata": {},
   "outputs": [],
   "source": [
    "temp['a']= [43,23,64,43,]"
   ]
  },
  {
   "cell_type": "code",
   "execution_count": 474,
   "id": "39e780c7-0623-46f8-98b9-a06e5f9c389d",
   "metadata": {},
   "outputs": [
    {
     "data": {
      "text/plain": [
       "{'id': 101,\n",
       " 'name': 'Tushar',\n",
       " 'sal': 54545,\n",
       " 'city': 'pune',\n",
       " 'a': [43, 23, 64, 43]}"
      ]
     },
     "execution_count": 474,
     "metadata": {},
     "output_type": "execute_result"
    }
   ],
   "source": [
    "temp"
   ]
  },
  {
   "cell_type": "code",
   "execution_count": 476,
   "id": "352e8a73-9aa8-49ec-a35f-8ebc77462856",
   "metadata": {},
   "outputs": [],
   "source": [
    "temp.update({'area':'SB Road Pune','selection': '100 per'})"
   ]
  },
  {
   "cell_type": "code",
   "execution_count": 478,
   "id": "cff4567d-5064-411d-8358-dc5dbb8b8cb3",
   "metadata": {},
   "outputs": [
    {
     "data": {
      "text/plain": [
       "{'id': 101,\n",
       " 'name': 'Tushar',\n",
       " 'sal': 54545,\n",
       " 'city': 'pune',\n",
       " 'a': [43, 23, 64, 43],\n",
       " 'area': 'SB Road Pune',\n",
       " 'selection': '100 per'}"
      ]
     },
     "execution_count": 478,
     "metadata": {},
     "output_type": "execute_result"
    }
   ],
   "source": [
    "temp"
   ]
  },
  {
   "cell_type": "code",
   "execution_count": 484,
   "id": "2fc90171-2c85-44b3-8361-49abcf3267ba",
   "metadata": {},
   "outputs": [],
   "source": [
    "d['address'].update({'a':100,'b':200,'c':300})"
   ]
  },
  {
   "cell_type": "code",
   "execution_count": 486,
   "id": "ced6c3a1-847f-4aef-b288-f7b60014a932",
   "metadata": {},
   "outputs": [
    {
     "data": {
      "text/plain": [
       "{'id': 34,\n",
       " 'address': {'city': 'Pune',\n",
       "  'details': [411046, 421332, 534343, 100],\n",
       "  'a': 100,\n",
       "  'b': 200,\n",
       "  'c': 300}}"
      ]
     },
     "execution_count": 486,
     "metadata": {},
     "output_type": "execute_result"
    }
   ],
   "source": [
    "d"
   ]
  },
  {
   "cell_type": "code",
   "execution_count": 488,
   "id": "43536ffa-1bd6-44f4-acc3-7e7e489c1185",
   "metadata": {},
   "outputs": [
    {
     "data": {
      "text/plain": [
       "{'id': 34,\n",
       " 'address': {'city': 'Pune',\n",
       "  'details': [411046, 421332, 534343, 100],\n",
       "  'a': 100,\n",
       "  'b': 200,\n",
       "  'c': 300}}"
      ]
     },
     "execution_count": 488,
     "metadata": {},
     "output_type": "execute_result"
    }
   ],
   "source": [
    "d"
   ]
  },
  {
   "cell_type": "code",
   "execution_count": 494,
   "id": "d84eaecc-9940-420a-8cfb-6d02a2f0c222",
   "metadata": {},
   "outputs": [
    {
     "data": {
      "text/plain": [
       "{'id': 101,\n",
       " 'name': 'Tushar',\n",
       " 'sal': 54545,\n",
       " 'city': 'pune',\n",
       " 'a': [43, 23, 64, 43],\n",
       " 'area': 'SB Road Pune',\n",
       " 'selection': '100 per'}"
      ]
     },
     "execution_count": 494,
     "metadata": {},
     "output_type": "execute_result"
    }
   ],
   "source": [
    "temp"
   ]
  },
  {
   "cell_type": "code",
   "execution_count": null,
   "id": "a5c2553c-4d0c-4add-bffc-dab00060b827",
   "metadata": {},
   "outputs": [],
   "source": [
    "get -- read value using key"
   ]
  },
  {
   "cell_type": "code",
   "execution_count": null,
   "id": "c122595c-4935-429c-ba8e-2c593acacc1a",
   "metadata": {},
   "outputs": [],
   "source": [
    "Deletion:\n",
    "\n",
    "pop\n",
    "popitem\n",
    "clear"
   ]
  },
  {
   "cell_type": "code",
   "execution_count": null,
   "id": "7f443cfc-aa47-497a-8224-598d20578cd7",
   "metadata": {},
   "outputs": [],
   "source": [
    "pop --  list -- indexing element delete\n",
    "\n",
    "pop -- dict -- key item delete"
   ]
  },
  {
   "cell_type": "code",
   "execution_count": 498,
   "id": "c21ed664-33bd-481a-b731-07f404740344",
   "metadata": {},
   "outputs": [
    {
     "ename": "TypeError",
     "evalue": "pop expected at least 1 argument, got 0",
     "output_type": "error",
     "traceback": [
      "\u001b[1;31m---------------------------------------------------------------------------\u001b[0m",
      "\u001b[1;31mTypeError\u001b[0m                                 Traceback (most recent call last)",
      "Cell \u001b[1;32mIn[498], line 1\u001b[0m\n\u001b[1;32m----> 1\u001b[0m temp\u001b[38;5;241m.\u001b[39mpop()\n",
      "\u001b[1;31mTypeError\u001b[0m: pop expected at least 1 argument, got 0"
     ]
    }
   ],
   "source": [
    "temp.pop()"
   ]
  },
  {
   "cell_type": "code",
   "execution_count": 502,
   "id": "f26baee1-abf0-4cec-a3f8-1fd9fceb9c9c",
   "metadata": {},
   "outputs": [
    {
     "data": {
      "text/plain": [
       "[43, 23, 64, 43]"
      ]
     },
     "execution_count": 502,
     "metadata": {},
     "output_type": "execute_result"
    }
   ],
   "source": [
    "temp.pop('a')"
   ]
  },
  {
   "cell_type": "code",
   "execution_count": 504,
   "id": "9edc36c2-068b-426a-a1cf-be0f6f0a3021",
   "metadata": {},
   "outputs": [
    {
     "data": {
      "text/plain": [
       "{'id': 101,\n",
       " 'name': 'Tushar',\n",
       " 'sal': 54545,\n",
       " 'city': 'pune',\n",
       " 'area': 'SB Road Pune',\n",
       " 'selection': '100 per'}"
      ]
     },
     "execution_count": 504,
     "metadata": {},
     "output_type": "execute_result"
    }
   ],
   "source": [
    "temp"
   ]
  },
  {
   "cell_type": "code",
   "execution_count": 506,
   "id": "314df827-950c-42ce-852d-2587d67848b0",
   "metadata": {},
   "outputs": [
    {
     "data": {
      "text/plain": [
       "'pune'"
      ]
     },
     "execution_count": 506,
     "metadata": {},
     "output_type": "execute_result"
    }
   ],
   "source": [
    "temp.pop('city')"
   ]
  },
  {
   "cell_type": "code",
   "execution_count": 508,
   "id": "cddaf0ff-3ba3-4f65-8fe4-4f25bb65fc97",
   "metadata": {},
   "outputs": [
    {
     "data": {
      "text/plain": [
       "{'id': 101,\n",
       " 'name': 'Tushar',\n",
       " 'sal': 54545,\n",
       " 'area': 'SB Road Pune',\n",
       " 'selection': '100 per'}"
      ]
     },
     "execution_count": 508,
     "metadata": {},
     "output_type": "execute_result"
    }
   ],
   "source": [
    "temp"
   ]
  },
  {
   "cell_type": "code",
   "execution_count": 510,
   "id": "88959080-daa8-4afb-8163-6001c951a9ff",
   "metadata": {},
   "outputs": [
    {
     "data": {
      "text/plain": [
       "'Tushar'"
      ]
     },
     "execution_count": 510,
     "metadata": {},
     "output_type": "execute_result"
    }
   ],
   "source": [
    "temp.pop('name')"
   ]
  },
  {
   "cell_type": "code",
   "execution_count": 512,
   "id": "296e9559-32f5-4efd-a379-8bf3a5155a1a",
   "metadata": {},
   "outputs": [
    {
     "data": {
      "text/plain": [
       "{'id': 101, 'sal': 54545, 'area': 'SB Road Pune', 'selection': '100 per'}"
      ]
     },
     "execution_count": 512,
     "metadata": {},
     "output_type": "execute_result"
    }
   ],
   "source": [
    "temp"
   ]
  },
  {
   "cell_type": "code",
   "execution_count": null,
   "id": "75b07dfc-6b7d-4839-9120-10beff6f071a",
   "metadata": {},
   "outputs": [],
   "source": [
    "popitem() # by default LIFO"
   ]
  },
  {
   "cell_type": "code",
   "execution_count": 514,
   "id": "eebb694f-c602-45af-afa7-1624e4346383",
   "metadata": {},
   "outputs": [
    {
     "data": {
      "text/plain": [
       "('selection', '100 per')"
      ]
     },
     "execution_count": 514,
     "metadata": {},
     "output_type": "execute_result"
    }
   ],
   "source": [
    "temp.popitem()"
   ]
  },
  {
   "cell_type": "code",
   "execution_count": 516,
   "id": "10016a34-bcb4-4f56-b238-f83254546a8a",
   "metadata": {},
   "outputs": [
    {
     "data": {
      "text/plain": [
       "('area', 'SB Road Pune')"
      ]
     },
     "execution_count": 516,
     "metadata": {},
     "output_type": "execute_result"
    }
   ],
   "source": [
    "temp.popitem()"
   ]
  },
  {
   "cell_type": "code",
   "execution_count": 518,
   "id": "c17d1c3b-b375-442a-9bc3-2dcde7ce0eb4",
   "metadata": {},
   "outputs": [
    {
     "data": {
      "text/plain": [
       "('sal', 54545)"
      ]
     },
     "execution_count": 518,
     "metadata": {},
     "output_type": "execute_result"
    }
   ],
   "source": [
    "temp.popitem()"
   ]
  },
  {
   "cell_type": "code",
   "execution_count": 520,
   "id": "13940b53-4be2-44b5-8c0c-e6cae8614b34",
   "metadata": {},
   "outputs": [
    {
     "data": {
      "text/plain": [
       "{'id': 101}"
      ]
     },
     "execution_count": 520,
     "metadata": {},
     "output_type": "execute_result"
    }
   ],
   "source": [
    "temp"
   ]
  },
  {
   "cell_type": "code",
   "execution_count": 522,
   "id": "efc926cd-3937-4e0d-94eb-b70d53200f16",
   "metadata": {},
   "outputs": [
    {
     "data": {
      "text/plain": [
       "('id', 101)"
      ]
     },
     "execution_count": 522,
     "metadata": {},
     "output_type": "execute_result"
    }
   ],
   "source": [
    "temp.popitem()"
   ]
  },
  {
   "cell_type": "code",
   "execution_count": 524,
   "id": "35c7eab0-8233-48d7-97d6-11b938d3aec9",
   "metadata": {},
   "outputs": [
    {
     "data": {
      "text/plain": [
       "{}"
      ]
     },
     "execution_count": 524,
     "metadata": {},
     "output_type": "execute_result"
    }
   ],
   "source": [
    "temp"
   ]
  },
  {
   "cell_type": "code",
   "execution_count": 526,
   "id": "98dcb604-a567-410f-be57-fe2908ce8efd",
   "metadata": {},
   "outputs": [
    {
     "data": {
      "text/plain": [
       "{}"
      ]
     },
     "execution_count": 526,
     "metadata": {},
     "output_type": "execute_result"
    }
   ],
   "source": [
    "temp"
   ]
  },
  {
   "cell_type": "code",
   "execution_count": 528,
   "id": "2e696706-2ebe-49a7-96b4-c6c385319753",
   "metadata": {},
   "outputs": [],
   "source": [
    "temp['a'] = 100"
   ]
  },
  {
   "cell_type": "code",
   "execution_count": 530,
   "id": "1fd90f70-8520-4746-82e9-18e8990f6ab5",
   "metadata": {},
   "outputs": [
    {
     "data": {
      "text/plain": [
       "{'a': 100}"
      ]
     },
     "execution_count": 530,
     "metadata": {},
     "output_type": "execute_result"
    }
   ],
   "source": [
    "temp"
   ]
  },
  {
   "cell_type": "code",
   "execution_count": 532,
   "id": "e8d00855-39c7-4b06-83e2-e41409f1be1e",
   "metadata": {},
   "outputs": [],
   "source": [
    "temp.update({'t':100,'r':500})"
   ]
  },
  {
   "cell_type": "code",
   "execution_count": 534,
   "id": "439dfa05-a24c-444c-814b-d8755bcfa0be",
   "metadata": {},
   "outputs": [
    {
     "data": {
      "text/plain": [
       "{'a': 100, 't': 100, 'r': 500}"
      ]
     },
     "execution_count": 534,
     "metadata": {},
     "output_type": "execute_result"
    }
   ],
   "source": [
    "temp"
   ]
  },
  {
   "cell_type": "code",
   "execution_count": null,
   "id": "07bdd5be-767b-4052-9c14-44028ff7a51f",
   "metadata": {},
   "outputs": [],
   "source": [
    "fromkeys\n",
    "setdefault"
   ]
  },
  {
   "cell_type": "code",
   "execution_count": 539,
   "id": "02f322ff-246e-4009-a8ff-5386443433e6",
   "metadata": {},
   "outputs": [],
   "source": [
    "k = ['prdid','prdname','prdprice']"
   ]
  },
  {
   "cell_type": "code",
   "execution_count": 547,
   "id": "1ca20460-d8fa-462e-8008-88d67b4746d8",
   "metadata": {},
   "outputs": [
    {
     "data": {
      "text/plain": [
       "{'prdid': 100, 'prdname': 100, 'prdprice': 100}"
      ]
     },
     "execution_count": 547,
     "metadata": {},
     "output_type": "execute_result"
    }
   ],
   "source": [
    "dict.fromkeys(k,100)"
   ]
  },
  {
   "cell_type": "code",
   "execution_count": null,
   "id": "08479a54-6177-4940-b5bd-2effc991bcfd",
   "metadata": {},
   "outputs": [],
   "source": [
    "setdefault"
   ]
  },
  {
   "cell_type": "code",
   "execution_count": 549,
   "id": "b399a4ea-a2c6-4d86-bdca-b838b96617df",
   "metadata": {},
   "outputs": [
    {
     "data": {
      "text/plain": [
       "{'a': 100, 't': 100, 'r': 500}"
      ]
     },
     "execution_count": 549,
     "metadata": {},
     "output_type": "execute_result"
    }
   ],
   "source": [
    "temp"
   ]
  },
  {
   "cell_type": "code",
   "execution_count": 551,
   "id": "a74f1114-5c77-47f6-a87f-9a9d49c7061c",
   "metadata": {},
   "outputs": [],
   "source": [
    "temp.update({'t':500})"
   ]
  },
  {
   "cell_type": "code",
   "execution_count": 553,
   "id": "38132e10-47f2-4b20-8f7f-e2df4613a9e5",
   "metadata": {},
   "outputs": [
    {
     "data": {
      "text/plain": [
       "{'a': 100, 't': 500, 'r': 500}"
      ]
     },
     "execution_count": 553,
     "metadata": {},
     "output_type": "execute_result"
    }
   ],
   "source": [
    "temp"
   ]
  },
  {
   "cell_type": "code",
   "execution_count": null,
   "id": "c99596e8-c39a-4be0-b635-609cff0ab08b",
   "metadata": {},
   "outputs": [],
   "source": [
    "if key alreay present then do nothing\n",
    "if not then add new key value pair"
   ]
  },
  {
   "cell_type": "code",
   "execution_count": 565,
   "id": "d916237a-363d-42e4-9ad9-6fbcf031df8d",
   "metadata": {},
   "outputs": [
    {
     "data": {
      "text/plain": [
       "500"
      ]
     },
     "execution_count": 565,
     "metadata": {},
     "output_type": "execute_result"
    }
   ],
   "source": [
    "temp.setdefault('t',600)"
   ]
  },
  {
   "cell_type": "code",
   "execution_count": 567,
   "id": "563287b6-536f-4af2-9ca6-309be2c1d632",
   "metadata": {},
   "outputs": [
    {
     "data": {
      "text/plain": [
       "{'a': 100, 't': 500, 'r': 500}"
      ]
     },
     "execution_count": 567,
     "metadata": {},
     "output_type": "execute_result"
    }
   ],
   "source": [
    "temp"
   ]
  },
  {
   "cell_type": "code",
   "execution_count": 569,
   "id": "ce44baa2-b5ed-4280-b8ec-a0ca5ad7f7de",
   "metadata": {},
   "outputs": [
    {
     "data": {
      "text/plain": [
       "'python'"
      ]
     },
     "execution_count": 569,
     "metadata": {},
     "output_type": "execute_result"
    }
   ],
   "source": [
    "temp.setdefault('atoz','python')"
   ]
  },
  {
   "cell_type": "code",
   "execution_count": 571,
   "id": "cac841f6-f284-41bc-9439-bf53ebc35bba",
   "metadata": {},
   "outputs": [
    {
     "data": {
      "text/plain": [
       "{'a': 100, 't': 500, 'r': 500, 'atoz': 'python'}"
      ]
     },
     "execution_count": 571,
     "metadata": {},
     "output_type": "execute_result"
    }
   ],
   "source": [
    "temp"
   ]
  },
  {
   "cell_type": "code",
   "execution_count": null,
   "id": "3ae7eddb-4962-487d-9a75-19c0110fa4bf",
   "metadata": {},
   "outputs": [],
   "source": [
    "get\n",
    "values\n",
    "items\n",
    "keys\n",
    "update\n",
    "setdefault\n",
    "fromkeys\n",
    "popitem\n",
    "pop\n",
    "clear"
   ]
  },
  {
   "cell_type": "code",
   "execution_count": 573,
   "id": "23c5b9ff-c55c-4037-b7fc-7637d564cafb",
   "metadata": {},
   "outputs": [],
   "source": [
    "#zip -- "
   ]
  },
  {
   "cell_type": "code",
   "execution_count": 575,
   "id": "eb023652-1f4f-456e-b79f-5f0d200d622a",
   "metadata": {},
   "outputs": [],
   "source": [
    "p = ['id','name','sal']"
   ]
  },
  {
   "cell_type": "code",
   "execution_count": 579,
   "id": "69e02211-43ad-48bb-981b-b86a69aad0a6",
   "metadata": {},
   "outputs": [],
   "source": [
    "p1 = [100,'tushar',4545454]"
   ]
  },
  {
   "cell_type": "code",
   "execution_count": null,
   "id": "b6a09fa8-d247-40db-bd97-5b6fa7c450b4",
   "metadata": {},
   "outputs": [],
   "source": [
    "file\n",
    "\n",
    "table\n",
    "\n",
    "id name sal\n",
    "\n",
    "data"
   ]
  },
  {
   "cell_type": "code",
   "execution_count": 581,
   "id": "8e297391-9d47-408f-9fd2-30aa97549907",
   "metadata": {},
   "outputs": [
    {
     "data": {
      "text/plain": [
       "[('id', 100), ('name', 'tushar'), ('sal', 4545454)]"
      ]
     },
     "execution_count": 581,
     "metadata": {},
     "output_type": "execute_result"
    }
   ],
   "source": [
    "list(zip(p,p1))"
   ]
  },
  {
   "cell_type": "code",
   "execution_count": 583,
   "id": "963bf7dd-15b8-4e46-8d30-2ddc27702db7",
   "metadata": {},
   "outputs": [
    {
     "data": {
      "text/plain": [
       "{'id': 100, 'name': 'tushar', 'sal': 4545454}"
      ]
     },
     "execution_count": 583,
     "metadata": {},
     "output_type": "execute_result"
    }
   ],
   "source": [
    "dict(zip(p,p1))"
   ]
  },
  {
   "cell_type": "code",
   "execution_count": 585,
   "id": "4d52c00b-d479-4039-ab58-74a4beff1435",
   "metadata": {},
   "outputs": [
    {
     "data": {
      "text/plain": [
       "(('id', 100), ('name', 'tushar'), ('sal', 4545454))"
      ]
     },
     "execution_count": 585,
     "metadata": {},
     "output_type": "execute_result"
    }
   ],
   "source": [
    "tuple(zip(p,p1))"
   ]
  },
  {
   "cell_type": "code",
   "execution_count": null,
   "id": "6e93608e-9f36-40b9-b287-90e881604bbe",
   "metadata": {},
   "outputs": [],
   "source": [
    "str:\n",
    "it is collection of chars arranged in perticular \n",
    "\n",
    "define :\n",
    "' ' , \" \" , ''' ''' , \"\"\" \"\"\" "
   ]
  },
  {
   "cell_type": "code",
   "execution_count": null,
   "id": "f6f02b0e-26ef-4130-b8c4-6de0beeb1a5a",
   "metadata": {},
   "outputs": [],
   "source": []
  },
  {
   "cell_type": "code",
   "execution_count": null,
   "id": "101baa28-b286-4bf4-a1f3-e1c9e29ebd33",
   "metadata": {},
   "outputs": [],
   "source": []
  },
  {
   "cell_type": "code",
   "execution_count": null,
   "id": "02a0c022-35c7-403e-8c72-c8b230d9acd7",
   "metadata": {},
   "outputs": [],
   "source": []
  }
 ],
 "metadata": {
  "kernelspec": {
   "display_name": "Python 3 (ipykernel)",
   "language": "python",
   "name": "python3"
  },
  "language_info": {
   "codemirror_mode": {
    "name": "ipython",
    "version": 3
   },
   "file_extension": ".py",
   "mimetype": "text/x-python",
   "name": "python",
   "nbconvert_exporter": "python",
   "pygments_lexer": "ipython3",
   "version": "3.12.4"
  }
 },
 "nbformat": 4,
 "nbformat_minor": 5
}
